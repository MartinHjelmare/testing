{
 "metadata": {
  "name": "",
  "signature": "sha256:47e2983971e07d8b44f7e8690ede499f428565a35feb5e75f042a0ea2556ed11"
 },
 "nbformat": 3,
 "nbformat_minor": 0,
 "worksheets": [
  {
   "cells": [
    {
     "cell_type": "code",
     "collapsed": false,
     "input": [
      "def read_md5(path):\n",
      "    with open(path) as _file:\n",
      "        lines = _file.readlines()\n",
      "        d = {}\n",
      "        for line in lines:\n",
      "            key = line.split()[1]\n",
      "            value = line.split()[0]\n",
      "            d[key] = value\n",
      "    return d\n",
      "dict1 = read_md5(\"/home/martin/Skrivbord/md5_archive.md5\")\n",
      "dict2 = read_md5(\"/home/martin/Skrivbord/md5_archive_mod.md5\")\n",
      "def test_values(d1, d2):\n",
      "    for key, value in d1.iteritems():\n",
      "        if (d1[key] != d2[key]):\n",
      "            print(key +\" not matching\")\n",
      "test_values(dict1, dict2)\n",
      "test_values(dict2, dict1)"
     ],
     "language": "python",
     "metadata": {},
     "outputs": []
    },
    {
     "cell_type": "code",
     "collapsed": false,
     "input": [
      "import fnmatch\n",
      "import os\n",
      "import re\n",
      "\n",
      "\n",
      "def listFiles(dir):\n",
      "    rootdir = dir\n",
      "    for root, dirnames, files in os.walk(rootdir):\n",
      "        for file in files:\n",
      "            yield os.path.join(root,file)\n",
      "    return\n",
      "\n",
      "def listDirs(dir):\n",
      "    for root, subFolders, files in os.walk(dir, topdown=False):\n",
      "        for folder in subFolders:\n",
      "           yield os.path.join(root,folder)\n",
      "    return\n",
      "\n",
      "for _dir in listDirs(\"/home/martin/Skrivbord/rename/JAK2\"):\n",
      "    well = re.search('U\\d\\d--V\\d\\d', _dir).group()\n",
      "    for f in listFiles(_dir):\n",
      "        name = re.sub('U\\d\\d--V\\d\\d(?!.*U\\d\\d--V\\d\\d)', well, f)\n",
      "        os.rename(f,name)\n",
      "        #print \"Renamed \" +  \"---to---\" + name"
     ],
     "language": "python",
     "metadata": {},
     "outputs": []
    },
    {
     "cell_type": "code",
     "collapsed": false,
     "input": [
      "import untangle\n",
      "import sys\n",
      "xml_file = '/home/martin/Skrivbord/test.xml'\n",
      "doc = untangle.parse(xml_file)\n",
      "blocks = doc.Configuration.LDM_Block_Sequence.LDM_Block_Sequence_Block_List.LDM_Block_Sequence_Block\n",
      "for block in blocks:\n",
      "    try:\n",
      "        print(block.LDM_Block['BlockName'])\n",
      "    except IndexError:\n",
      "        print(block.LDM_Block_Sequential['BlockName'])"
     ],
     "language": "python",
     "metadata": {},
     "outputs": []
    },
    {
     "cell_type": "code",
     "collapsed": false,
     "input": [],
     "language": "python",
     "metadata": {},
     "outputs": []
    }
   ],
   "metadata": {}
  }
 ]
}