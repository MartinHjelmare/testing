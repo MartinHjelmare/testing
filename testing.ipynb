{
 "cells": [
  {
   "cell_type": "code",
   "execution_count": null,
   "metadata": {
    "collapsed": false
   },
   "outputs": [],
   "source": [
    "def read_md5(path):\n",
    "    with open(path) as _file:\n",
    "        lines = _file.readlines()\n",
    "        d = {}\n",
    "        for line in lines:\n",
    "            key = line.split()[1]\n",
    "            value = line.split()[0]\n",
    "            d[key] = value\n",
    "    return d\n",
    "dict1 = read_md5(\"/home/martin/Skrivbord/md5_archive.md5\")\n",
    "dict2 = read_md5(\"/home/martin/Skrivbord/md5_archive_mod.md5\")\n",
    "def test_values(d1, d2):\n",
    "    for key, value in d1.iteritems():\n",
    "        if (d1[key] != d2[key]):\n",
    "            print(key +\" not matching\")\n",
    "test_values(dict1, dict2)\n",
    "test_values(dict2, dict1)"
   ]
  },
  {
   "cell_type": "code",
   "execution_count": null,
   "metadata": {
    "collapsed": false
   },
   "outputs": [],
   "source": [
    "import fnmatch\n",
    "import os\n",
    "import re\n",
    "\n",
    "\n",
    "def listFiles(dir):\n",
    "    rootdir = dir\n",
    "    for root, dirnames, files in os.walk(rootdir):\n",
    "        for file in files:\n",
    "            yield os.path.join(root,file)\n",
    "    return\n",
    "\n",
    "def listDirs(dir):\n",
    "    for root, subFolders, files in os.walk(dir, topdown=False):\n",
    "        for folder in subFolders:\n",
    "           yield os.path.join(root,folder)\n",
    "    return\n",
    "\n",
    "for _dir in listDirs(\"/home/martin/Skrivbord/rename/JAK2\"):\n",
    "    well = re.search('U\\d\\d--V\\d\\d', _dir).group()\n",
    "    for f in listFiles(_dir):\n",
    "        name = re.sub('U\\d\\d--V\\d\\d(?!.*U\\d\\d--V\\d\\d)', well, f)\n",
    "        os.rename(f,name)\n",
    "        #print \"Renamed \" +  \"---to---\" + name"
   ]
  },
  {
   "cell_type": "code",
   "execution_count": 45,
   "metadata": {
    "collapsed": false
   },
   "outputs": [],
   "source": [
    "import csv\n",
    "from lxml import etree\n",
    "def write_csv(path, dict_list, keys):\n",
    "    \"\"\"Function to write a list of dicts as a csv file.\"\"\"\n",
    "    \n",
    "    with open(path, 'wb') as f:\n",
    "        w = csv.DictWriter(f, keys)\n",
    "        w.writeheader()\n",
    "        w.writerows(dict_list)\n",
    "doc = etree.parse('/home/martin/Skrivbord/antibody_sirna_seq.xml')\n",
    "namespace = {'ns':'urn:schemas-microsoft-com:office:spreadsheet'}\n",
    "data = doc.xpath('//ns:Data', namespaces=namespace)\n",
    "dl = []\n",
    "for i, d in enumerate(data):\n",
    "    if i % 5 == 0:\n",
    "        dl.append({'antibody_id': data[i].text,\n",
    "                   'vendor': data[i+1].text,\n",
    "                   'sequence': data[i+2].text,\n",
    "                   'rev_comp_seq': data[i+3].text,\n",
    "                   'sequence_tr': data[i+4].text\n",
    "                   })\n",
    "k = ['antibody_id', 'vendor', 'sequence', 'rev_comp_seq', 'sequence_tr']\n",
    "write_csv('/home/martin/Skrivbord/antibody_sirna_seq.csv', dl, k)"
   ]
  },
  {
   "cell_type": "code",
   "execution_count": null,
   "metadata": {
    "collapsed": true
   },
   "outputs": [],
   "source": []
  }
 ],
 "metadata": {
  "kernelspec": {
   "display_name": "Python 2",
   "language": "python",
   "name": "python2"
  },
  "language_info": {
   "codemirror_mode": {
    "name": "ipython",
    "version": 2
   },
   "file_extension": ".py",
   "mimetype": "text/x-python",
   "name": "python",
   "nbconvert_exporter": "python",
   "pygments_lexer": "ipython2",
   "version": "2.7.3"
  }
 },
 "nbformat": 4,
 "nbformat_minor": 0
}
