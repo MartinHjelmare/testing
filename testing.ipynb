{
 "metadata": {
  "name": "testing"
 },
 "nbformat": 3,
 "nbformat_minor": 0,
 "worksheets": [
  {
   "cells": [
    {
     "cell_type": "code",
     "collapsed": false,
     "input": [
      "def read_md5(path):\n",
      "    with open(path) as _file:\n",
      "        lines = _file.readlines()\n",
      "        d = {}\n",
      "        for line in lines:\n",
      "            key = line.split()[1]\n",
      "            value = line.split()[0]\n",
      "            d[key] = value\n",
      "    return d"
     ],
     "language": "python",
     "metadata": {},
     "outputs": [],
     "prompt_number": 58
    },
    {
     "cell_type": "code",
     "collapsed": false,
     "input": [
      "dict1 = read_md5(\"/home/martin/Skrivbord/md5_archive.md5\")"
     ],
     "language": "python",
     "metadata": {},
     "outputs": [],
     "prompt_number": 59
    },
    {
     "cell_type": "code",
     "collapsed": false,
     "input": [
      "dict2 = read_md5(\"/home/martin/Skrivbord/md5_archive_mod.md5\")"
     ],
     "language": "python",
     "metadata": {},
     "outputs": [],
     "prompt_number": 60
    },
    {
     "cell_type": "code",
     "collapsed": false,
     "input": [
      "def test_values(d1, d2):\n",
      "    for key, value in d1.iteritems():\n",
      "        if (d1[key] != d2[key]):\n",
      "            print(key +\" not matching\")"
     ],
     "language": "python",
     "metadata": {},
     "outputs": [],
     "prompt_number": 68
    },
    {
     "cell_type": "code",
     "collapsed": false,
     "input": [
      "test_values(dict1, dict2)"
     ],
     "language": "python",
     "metadata": {},
     "outputs": [],
     "prompt_number": 69
    },
    {
     "cell_type": "code",
     "collapsed": false,
     "input": [
      "test_values(dict2, dict1)"
     ],
     "language": "python",
     "metadata": {},
     "outputs": [],
     "prompt_number": 70
    },
    {
     "cell_type": "code",
     "collapsed": false,
     "input": [],
     "language": "python",
     "metadata": {},
     "outputs": []
    }
   ],
   "metadata": {}
  }
 ]
}